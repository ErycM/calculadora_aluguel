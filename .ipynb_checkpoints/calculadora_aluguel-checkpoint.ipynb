{
 "cells": [
  {
   "cell_type": "code",
   "execution_count": 6,
   "metadata": {},
   "outputs": [],
   "source": [
    "from selenium import webdriver\n",
    "from selenium.common.exceptions import NoSuchElementException        \n",
    "from webdriver_manager.chrome import ChromeDriverManager\n",
    "from selenium.webdriver.common.keys import Keys\n",
    "import time\n",
    "import json"
   ]
  },
  {
   "cell_type": "code",
   "execution_count": 76,
   "metadata": {},
   "outputs": [
    {
     "name": "stderr",
     "output_type": "stream",
     "text": [
      "\n",
      "\n",
      "====== WebDriver manager ======\n",
      "Current google-chrome version is 91.0.4472\n",
      "Get LATEST driver version for 91.0.4472\n",
      "Driver [C:\\Users\\erycm\\.wdm\\drivers\\chromedriver\\win32\\91.0.4472.19\\chromedriver.exe] found in cache\n"
     ]
    },
    {
     "name": "stdout",
     "output_type": "stream",
     "text": [
      "end\n"
     ]
    }
   ],
   "source": [
    "def check_exists_page(driver):\n",
    "    try:\n",
    "        driver.find_element_by_xpath(\"//li[a/@href ='#pagina=']\")\n",
    "    except NoSuchElementException:\n",
    "        return False\n",
    "    return True\n",
    "    \n",
    "\n",
    "driver = webdriver.Chrome(ChromeDriverManager().install())\n",
    "driver.get('https://www.vivareal.com.br/aluguel/')\n",
    "driver.maximize_window()\n",
    "\n",
    "local_search = driver.find_element_by_id(\"filter-location-search-input\")\n",
    "local_search.send_keys('Curitiba')\n",
    "time.sleep(2.5)\n",
    "local_search.send_keys(Keys.ENTER)\n",
    "time.sleep(2)\n",
    "\n",
    "dic_properties = []\n",
    "pag=1\n",
    "\n",
    "while True:\n",
    "    #driver.get('https://www.vivareal.com.br/aluguel/?pagina='+str(pag))\n",
    "    \n",
    "    driver.execute_script(\"window.scrollTo(0, document.body.scrollHeight || document.documentElement.scrollHeight);\")\n",
    "    properties = driver.find_elements_by_css_selector(\"article.property-card__container\")\n",
    "    time.sleep(1)\n",
    "    \n",
    "    for propertie in properties:    \n",
    "        prop = propertie.text.split('\\n')\n",
    "    \n",
    "        if len(prop) > 1:\n",
    "            dic_properties.append(prop) \n",
    "    \n",
    "    pag+=1\n",
    "    \n",
    "    time.sleep(1)\n",
    "    driver.get('https://www.vivareal.com.br/aluguel/parana/curitiba/?pagina='+str(pag))\n",
    "    time.sleep(1)\n",
    "    \n",
    "    if check_exists_page(driver):\n",
    "        break        \n",
    "    \n",
    "\n",
    "with open('./properties.txt', 'w') as file:\n",
    "    file.write(str(dic_properties))\n",
    "\n",
    "print(\"end\")\n",
    "\n",
    "\n",
    "\n",
    "#time.sleep(2.5)\n",
    "\n"
   ]
  },
  {
   "cell_type": "code",
   "execution_count": null,
   "metadata": {},
   "outputs": [],
   "source": []
  }
 ],
 "metadata": {
  "kernelspec": {
   "display_name": "Python 3",
   "language": "python",
   "name": "python3"
  },
  "language_info": {
   "codemirror_mode": {
    "name": "ipython",
    "version": 3
   },
   "file_extension": ".py",
   "mimetype": "text/x-python",
   "name": "python",
   "nbconvert_exporter": "python",
   "pygments_lexer": "ipython3",
   "version": "3.8.5"
  }
 },
 "nbformat": 4,
 "nbformat_minor": 4
}
