{
 "cells": [
  {
   "cell_type": "code",
   "execution_count": 1,
   "metadata": {},
   "outputs": [],
   "source": [
    "import pandas as pd \n",
    "import numpy as np"
   ]
  },
  {
   "cell_type": "code",
   "execution_count": 2,
   "metadata": {},
   "outputs": [],
   "source": [
    "properties = pd.read_csv(\"properties.csv\", sep=\",\") "
   ]
  },
  {
   "cell_type": "code",
   "execution_count": 3,
   "metadata": {},
   "outputs": [],
   "source": [
    "neighbourhoods = pd.read_csv(\"neighbourhood.csv\", sep=\",\")\n",
    "neighbourhoods[\"neighbourhood\"] = neighbourhoods[\"neighbourhood\"].str.lower().str.normalize(\"NFKD\").str.encode(\"ascii\", errors=\"ignore\").str.decode(\"utf8\")"
   ]
  },
  {
   "cell_type": "markdown",
   "metadata": {},
   "source": [
    "Removendo anúncios"
   ]
  },
  {
   "cell_type": "code",
   "execution_count": 4,
   "metadata": {},
   "outputs": [],
   "source": [
    "properties = properties.loc[properties[\"url\"].dropna().index]\n",
    "properties = properties.loc[properties[\"header\"].dropna().index]"
   ]
  },
  {
   "cell_type": "code",
   "execution_count": 5,
   "metadata": {
    "scrolled": true
   },
   "outputs": [],
   "source": [
    "#properties[\"price\"].unique()"
   ]
  },
  {
   "cell_type": "code",
   "execution_count": 6,
   "metadata": {},
   "outputs": [
    {
     "data": {
      "text/plain": [
       "9972"
      ]
     },
     "execution_count": 6,
     "metadata": {},
     "output_type": "execute_result"
    }
   ],
   "source": [
    "len(properties)"
   ]
  },
  {
   "cell_type": "code",
   "execution_count": 7,
   "metadata": {},
   "outputs": [],
   "source": [
    "properties = properties.drop_duplicates(subset=[\"id\", \"header\", \"address\", \"area\", \"price\"], \n",
    "                        keep=\"first\")"
   ]
  },
  {
   "cell_type": "code",
   "execution_count": 8,
   "metadata": {},
   "outputs": [],
   "source": [
    "properties = properties.reset_index(drop=False) "
   ]
  },
  {
   "cell_type": "code",
   "execution_count": 9,
   "metadata": {},
   "outputs": [],
   "source": [
    "properties[\"area\"] = properties[\"area\"].replace(\"--\",\"0\").astype(int)"
   ]
  },
  {
   "cell_type": "code",
   "execution_count": 10,
   "metadata": {},
   "outputs": [],
   "source": [
    "properties[\"rooms\"] = properties[\"rooms\"].str.replace(\"--\",\"0\").str.split(\" \").str[0].astype(int)"
   ]
  },
  {
   "cell_type": "code",
   "execution_count": 11,
   "metadata": {},
   "outputs": [
    {
     "name": "stderr",
     "output_type": "stream",
     "text": [
      "<ipython-input-11-e7f6d0900307>:1: FutureWarning: The default value of regex will change from True to False in a future version. In addition, single character regular expressions will*not* be treated as literal strings when regex=True.\n",
      "  properties[\"price\"] = properties[\"price\"].str.split(\" \").str[1].str.replace(\".\", \"\").astype(int)\n"
     ]
    }
   ],
   "source": [
    "properties[\"price\"] = properties[\"price\"].str.split(\" \").str[1].str.replace(\".\", \"\").astype(int)\n",
    "\n",
    "#properties[\"price\"] = properties[\"price\"].str.split(\" \").str[1].astype(float)"
   ]
  },
  {
   "cell_type": "code",
   "execution_count": 12,
   "metadata": {},
   "outputs": [],
   "source": [
    "properties[\"garages\"] = properties[\"garages\"].str.replace(\"--\",\"0\").str.split(\" \").str[0].astype(int)"
   ]
  },
  {
   "cell_type": "code",
   "execution_count": 13,
   "metadata": {},
   "outputs": [
    {
     "name": "stderr",
     "output_type": "stream",
     "text": [
      "<ipython-input-13-9ee6443d3e2c>:2: FutureWarning: The default value of regex will change from True to False in a future version. In addition, single character regular expressions will*not* be treated as literal strings when regex=True.\n",
      "  properties[\"condo\"] = properties[\"condo\"].str.split(\" \").str[1].str.replace(\".\",\"\").replace(np.nan,\"0\").astype(int)\n"
     ]
    }
   ],
   "source": [
    "#properties[\"condo\"] = properties[\"condo\"].str.split(\" \").str[1].replace(np.nan,\"0\").astype(float)\n",
    "properties[\"condo\"] = properties[\"condo\"].str.split(\" \").str[1].str.replace(\".\",\"\").replace(np.nan,\"0\").astype(int)"
   ]
  },
  {
   "cell_type": "code",
   "execution_count": 14,
   "metadata": {},
   "outputs": [],
   "source": [
    "properties[\"bathrooms\"] = properties[\"bathrooms\"].str.split(\" \").str[0].replace(\"--\",\"0\").astype(int)"
   ]
  },
  {
   "cell_type": "code",
   "execution_count": 15,
   "metadata": {},
   "outputs": [],
   "source": [
    "properties[\"url\"] = properties[\"url\"].astype(str)"
   ]
  },
  {
   "cell_type": "code",
   "execution_count": 16,
   "metadata": {},
   "outputs": [],
   "source": [
    "properties[\"header\"] = properties[\"header\"].astype(str)"
   ]
  },
  {
   "cell_type": "code",
   "execution_count": 17,
   "metadata": {},
   "outputs": [],
   "source": [
    "properties = pd.concat([properties, properties[\"amenities\"].str.get_dummies(sep=\"|\")], axis=1)"
   ]
  },
  {
   "cell_type": "code",
   "execution_count": 18,
   "metadata": {},
   "outputs": [],
   "source": [
    "properties = properties.drop(columns=[\"amenities\"])"
   ]
  },
  {
   "cell_type": "code",
   "execution_count": 19,
   "metadata": {},
   "outputs": [],
   "source": [
    "properties[\"crawled_at\"] = pd.to_datetime(properties[\"crawled_at\"], format=\"%Y-%m-%d %H:%M:%S\")"
   ]
  },
  {
   "cell_type": "code",
   "execution_count": 20,
   "metadata": {},
   "outputs": [],
   "source": [
    "for idx,address in enumerate(properties[\"address\"].str.lower().str.normalize(\"NFKD\").str.encode(\"ascii\", errors=\"ignore\").str.decode(\"utf8\")):\n",
    "    for index,row in neighbourhoods.iterrows():\n",
    "        if address.find(row[\"neighbourhood\"]) != -1:\n",
    "            if row[\"check_name\"]:\n",
    "                properties.loc[idx,\"neighbourhood\"] = row[\"equivalent\"]\n",
    "            else:\n",
    "                properties.loc[idx,\"neighbourhood\"] = row[\"neighbourhood\"]\n",
    "            break"
   ]
  },
  {
   "cell_type": "code",
   "execution_count": 34,
   "metadata": {},
   "outputs": [
    {
     "data": {
      "text/html": [
       "<div>\n",
       "<style scoped>\n",
       "    .dataframe tbody tr th:only-of-type {\n",
       "        vertical-align: middle;\n",
       "    }\n",
       "\n",
       "    .dataframe tbody tr th {\n",
       "        vertical-align: top;\n",
       "    }\n",
       "\n",
       "    .dataframe thead th {\n",
       "        text-align: right;\n",
       "    }\n",
       "</style>\n",
       "<table border=\"1\" class=\"dataframe\">\n",
       "  <thead>\n",
       "    <tr style=\"text-align: right;\">\n",
       "      <th></th>\n",
       "      <th>index</th>\n",
       "      <th>id</th>\n",
       "      <th>url</th>\n",
       "      <th>header</th>\n",
       "      <th>address</th>\n",
       "      <th>area</th>\n",
       "      <th>rooms</th>\n",
       "      <th>bathrooms</th>\n",
       "      <th>garages</th>\n",
       "      <th>price</th>\n",
       "      <th>...</th>\n",
       "      <th>TV a cabo</th>\n",
       "      <th>Varanda</th>\n",
       "      <th>Varanda fechada com vidro</th>\n",
       "      <th>Varanda gourmet</th>\n",
       "      <th>Vestiário</th>\n",
       "      <th>Vigia</th>\n",
       "      <th>Vista panorâmica</th>\n",
       "      <th>Vista para o mar</th>\n",
       "      <th>Área de serviço</th>\n",
       "      <th>neighbourhood</th>\n",
       "    </tr>\n",
       "  </thead>\n",
       "  <tbody>\n",
       "    <tr>\n",
       "      <th>0</th>\n",
       "      <td>0</td>\n",
       "      <td>2522357582</td>\n",
       "      <td>https://www.vivareal.com.br/imovel/apartamento...</td>\n",
       "      <td>Apartamento com 3 Quartos para Aluguel, 65m²</td>\n",
       "      <td>Avenida Silva Jardim, 3733 - Seminário, Curiti...</td>\n",
       "      <td>65</td>\n",
       "      <td>3</td>\n",
       "      <td>2</td>\n",
       "      <td>1</td>\n",
       "      <td>2100</td>\n",
       "      <td>...</td>\n",
       "      <td>0</td>\n",
       "      <td>0</td>\n",
       "      <td>0</td>\n",
       "      <td>0</td>\n",
       "      <td>0</td>\n",
       "      <td>0</td>\n",
       "      <td>0</td>\n",
       "      <td>0</td>\n",
       "      <td>0</td>\n",
       "      <td>seminario</td>\n",
       "    </tr>\n",
       "    <tr>\n",
       "      <th>1</th>\n",
       "      <td>1</td>\n",
       "      <td>2519586577</td>\n",
       "      <td>https://www.vivareal.com.br/imovel/sala-comerc...</td>\n",
       "      <td>Sala/Conjunto para Aluguel, 15m²</td>\n",
       "      <td>Rua Atílio Bório, 1177 - Alto da Rua XV, Curit...</td>\n",
       "      <td>15</td>\n",
       "      <td>0</td>\n",
       "      <td>3</td>\n",
       "      <td>1</td>\n",
       "      <td>1200</td>\n",
       "      <td>...</td>\n",
       "      <td>0</td>\n",
       "      <td>0</td>\n",
       "      <td>0</td>\n",
       "      <td>0</td>\n",
       "      <td>0</td>\n",
       "      <td>0</td>\n",
       "      <td>0</td>\n",
       "      <td>0</td>\n",
       "      <td>0</td>\n",
       "      <td>Alto da XV</td>\n",
       "    </tr>\n",
       "    <tr>\n",
       "      <th>2</th>\n",
       "      <td>2</td>\n",
       "      <td>2520533693</td>\n",
       "      <td>https://www.vivareal.com.br/imovel/apartamento...</td>\n",
       "      <td>Apartamento com Quarto para Aluguel, 33m²</td>\n",
       "      <td>Avenida Visconde de Guarapuava, 3806 - Centro,...</td>\n",
       "      <td>33</td>\n",
       "      <td>1</td>\n",
       "      <td>1</td>\n",
       "      <td>0</td>\n",
       "      <td>2500</td>\n",
       "      <td>...</td>\n",
       "      <td>0</td>\n",
       "      <td>0</td>\n",
       "      <td>0</td>\n",
       "      <td>0</td>\n",
       "      <td>0</td>\n",
       "      <td>0</td>\n",
       "      <td>0</td>\n",
       "      <td>0</td>\n",
       "      <td>0</td>\n",
       "      <td>centro</td>\n",
       "    </tr>\n",
       "    <tr>\n",
       "      <th>3</th>\n",
       "      <td>3</td>\n",
       "      <td>2512561575</td>\n",
       "      <td>https://www.vivareal.com.br/imovel/sala-comerc...</td>\n",
       "      <td>Sala/Conjunto para Aluguel, 218m²</td>\n",
       "      <td>Alameda Doutor Carlos de Carvalho, 555 - Centr...</td>\n",
       "      <td>218</td>\n",
       "      <td>0</td>\n",
       "      <td>4</td>\n",
       "      <td>3</td>\n",
       "      <td>10500</td>\n",
       "      <td>...</td>\n",
       "      <td>0</td>\n",
       "      <td>0</td>\n",
       "      <td>0</td>\n",
       "      <td>0</td>\n",
       "      <td>0</td>\n",
       "      <td>0</td>\n",
       "      <td>0</td>\n",
       "      <td>0</td>\n",
       "      <td>0</td>\n",
       "      <td>centro</td>\n",
       "    </tr>\n",
       "    <tr>\n",
       "      <th>4</th>\n",
       "      <td>4</td>\n",
       "      <td>2504156182</td>\n",
       "      <td>https://www.vivareal.com.br/imovel/apartamento...</td>\n",
       "      <td>Apartamento com 2 Quartos para Aluguel, 52m²</td>\n",
       "      <td>Alameda Júlia da Costa, 911 - Bigorrilho, Curi...</td>\n",
       "      <td>52</td>\n",
       "      <td>2</td>\n",
       "      <td>2</td>\n",
       "      <td>1</td>\n",
       "      <td>2990</td>\n",
       "      <td>...</td>\n",
       "      <td>0</td>\n",
       "      <td>0</td>\n",
       "      <td>0</td>\n",
       "      <td>0</td>\n",
       "      <td>0</td>\n",
       "      <td>0</td>\n",
       "      <td>0</td>\n",
       "      <td>0</td>\n",
       "      <td>0</td>\n",
       "      <td>Bigorrilho</td>\n",
       "    </tr>\n",
       "    <tr>\n",
       "      <th>...</th>\n",
       "      <td>...</td>\n",
       "      <td>...</td>\n",
       "      <td>...</td>\n",
       "      <td>...</td>\n",
       "      <td>...</td>\n",
       "      <td>...</td>\n",
       "      <td>...</td>\n",
       "      <td>...</td>\n",
       "      <td>...</td>\n",
       "      <td>...</td>\n",
       "      <td>...</td>\n",
       "      <td>...</td>\n",
       "      <td>...</td>\n",
       "      <td>...</td>\n",
       "      <td>...</td>\n",
       "      <td>...</td>\n",
       "      <td>...</td>\n",
       "      <td>...</td>\n",
       "      <td>...</td>\n",
       "      <td>...</td>\n",
       "      <td>...</td>\n",
       "    </tr>\n",
       "    <tr>\n",
       "      <th>9891</th>\n",
       "      <td>9967</td>\n",
       "      <td>1041055099</td>\n",
       "      <td>https://www.vivareal.com.br/imovel/lote-terren...</td>\n",
       "      <td>Lote/Terreno para Aluguel, 300m²</td>\n",
       "      <td>Rua Baltazar Carrasco dos Reis, 2757 - Rebouça...</td>\n",
       "      <td>300</td>\n",
       "      <td>0</td>\n",
       "      <td>0</td>\n",
       "      <td>0</td>\n",
       "      <td>1200</td>\n",
       "      <td>...</td>\n",
       "      <td>0</td>\n",
       "      <td>0</td>\n",
       "      <td>0</td>\n",
       "      <td>0</td>\n",
       "      <td>0</td>\n",
       "      <td>0</td>\n",
       "      <td>0</td>\n",
       "      <td>0</td>\n",
       "      <td>0</td>\n",
       "      <td>reboucas</td>\n",
       "    </tr>\n",
       "    <tr>\n",
       "      <th>9892</th>\n",
       "      <td>9968</td>\n",
       "      <td>2466751400</td>\n",
       "      <td>https://www.vivareal.com.br/imovel/ponto-comer...</td>\n",
       "      <td>Ponto comercial/Loja/Box para Venda/Aluguel 74m²</td>\n",
       "      <td>Centro, Curitiba - PR</td>\n",
       "      <td>74</td>\n",
       "      <td>0</td>\n",
       "      <td>1</td>\n",
       "      <td>1</td>\n",
       "      <td>2900</td>\n",
       "      <td>...</td>\n",
       "      <td>0</td>\n",
       "      <td>0</td>\n",
       "      <td>0</td>\n",
       "      <td>0</td>\n",
       "      <td>0</td>\n",
       "      <td>0</td>\n",
       "      <td>0</td>\n",
       "      <td>0</td>\n",
       "      <td>0</td>\n",
       "      <td>centro</td>\n",
       "    </tr>\n",
       "    <tr>\n",
       "      <th>9893</th>\n",
       "      <td>9969</td>\n",
       "      <td>2523717590</td>\n",
       "      <td>https://www.vivareal.com.br/imovel/apartamento...</td>\n",
       "      <td>Apartamento com Quarto para Aluguel, 34m²</td>\n",
       "      <td>Rua Vinte e Quatro de Maio, 420 - Rebouças, Cu...</td>\n",
       "      <td>34</td>\n",
       "      <td>1</td>\n",
       "      <td>1</td>\n",
       "      <td>0</td>\n",
       "      <td>890</td>\n",
       "      <td>...</td>\n",
       "      <td>0</td>\n",
       "      <td>0</td>\n",
       "      <td>0</td>\n",
       "      <td>0</td>\n",
       "      <td>0</td>\n",
       "      <td>0</td>\n",
       "      <td>0</td>\n",
       "      <td>0</td>\n",
       "      <td>1</td>\n",
       "      <td>reboucas</td>\n",
       "    </tr>\n",
       "    <tr>\n",
       "      <th>9894</th>\n",
       "      <td>9970</td>\n",
       "      <td>2456852080</td>\n",
       "      <td>https://www.vivareal.com.br/imovel/imovel-come...</td>\n",
       "      <td>Imóvel comercial com 3 Quartos para Aluguel, 1...</td>\n",
       "      <td>Rua Marechal Octávio Saldanha Mazza, 8353 - Pi...</td>\n",
       "      <td>120</td>\n",
       "      <td>3</td>\n",
       "      <td>2</td>\n",
       "      <td>10</td>\n",
       "      <td>2500</td>\n",
       "      <td>...</td>\n",
       "      <td>0</td>\n",
       "      <td>0</td>\n",
       "      <td>0</td>\n",
       "      <td>0</td>\n",
       "      <td>0</td>\n",
       "      <td>0</td>\n",
       "      <td>0</td>\n",
       "      <td>0</td>\n",
       "      <td>0</td>\n",
       "      <td>pinheirinho</td>\n",
       "    </tr>\n",
       "    <tr>\n",
       "      <th>9895</th>\n",
       "      <td>9971</td>\n",
       "      <td>2518812896</td>\n",
       "      <td>https://www.vivareal.com.br/imovel/ponto-comer...</td>\n",
       "      <td>Ponto comercial/Loja/Box para Aluguel, 400m²</td>\n",
       "      <td>Rua Augusto Stresser, 561 - Alto da Glória, Cu...</td>\n",
       "      <td>400</td>\n",
       "      <td>0</td>\n",
       "      <td>4</td>\n",
       "      <td>0</td>\n",
       "      <td>5300</td>\n",
       "      <td>...</td>\n",
       "      <td>0</td>\n",
       "      <td>0</td>\n",
       "      <td>0</td>\n",
       "      <td>0</td>\n",
       "      <td>0</td>\n",
       "      <td>0</td>\n",
       "      <td>0</td>\n",
       "      <td>0</td>\n",
       "      <td>0</td>\n",
       "      <td>alto da gloria</td>\n",
       "    </tr>\n",
       "  </tbody>\n",
       "</table>\n",
       "<p>9896 rows × 115 columns</p>\n",
       "</div>"
      ],
      "text/plain": [
       "      index          id                                                url  \\\n",
       "0         0  2522357582  https://www.vivareal.com.br/imovel/apartamento...   \n",
       "1         1  2519586577  https://www.vivareal.com.br/imovel/sala-comerc...   \n",
       "2         2  2520533693  https://www.vivareal.com.br/imovel/apartamento...   \n",
       "3         3  2512561575  https://www.vivareal.com.br/imovel/sala-comerc...   \n",
       "4         4  2504156182  https://www.vivareal.com.br/imovel/apartamento...   \n",
       "...     ...         ...                                                ...   \n",
       "9891   9967  1041055099  https://www.vivareal.com.br/imovel/lote-terren...   \n",
       "9892   9968  2466751400  https://www.vivareal.com.br/imovel/ponto-comer...   \n",
       "9893   9969  2523717590  https://www.vivareal.com.br/imovel/apartamento...   \n",
       "9894   9970  2456852080  https://www.vivareal.com.br/imovel/imovel-come...   \n",
       "9895   9971  2518812896  https://www.vivareal.com.br/imovel/ponto-comer...   \n",
       "\n",
       "                                                 header  \\\n",
       "0          Apartamento com 3 Quartos para Aluguel, 65m²   \n",
       "1                      Sala/Conjunto para Aluguel, 15m²   \n",
       "2             Apartamento com Quarto para Aluguel, 33m²   \n",
       "3                     Sala/Conjunto para Aluguel, 218m²   \n",
       "4          Apartamento com 2 Quartos para Aluguel, 52m²   \n",
       "...                                                 ...   \n",
       "9891                   Lote/Terreno para Aluguel, 300m²   \n",
       "9892   Ponto comercial/Loja/Box para Venda/Aluguel 74m²   \n",
       "9893          Apartamento com Quarto para Aluguel, 34m²   \n",
       "9894  Imóvel comercial com 3 Quartos para Aluguel, 1...   \n",
       "9895       Ponto comercial/Loja/Box para Aluguel, 400m²   \n",
       "\n",
       "                                                address  area  rooms  \\\n",
       "0     Avenida Silva Jardim, 3733 - Seminário, Curiti...    65      3   \n",
       "1     Rua Atílio Bório, 1177 - Alto da Rua XV, Curit...    15      0   \n",
       "2     Avenida Visconde de Guarapuava, 3806 - Centro,...    33      1   \n",
       "3     Alameda Doutor Carlos de Carvalho, 555 - Centr...   218      0   \n",
       "4     Alameda Júlia da Costa, 911 - Bigorrilho, Curi...    52      2   \n",
       "...                                                 ...   ...    ...   \n",
       "9891  Rua Baltazar Carrasco dos Reis, 2757 - Rebouça...   300      0   \n",
       "9892                              Centro, Curitiba - PR    74      0   \n",
       "9893  Rua Vinte e Quatro de Maio, 420 - Rebouças, Cu...    34      1   \n",
       "9894  Rua Marechal Octávio Saldanha Mazza, 8353 - Pi...   120      3   \n",
       "9895  Rua Augusto Stresser, 561 - Alto da Glória, Cu...   400      0   \n",
       "\n",
       "      bathrooms  garages  price  ...  TV a cabo Varanda  \\\n",
       "0             2        1   2100  ...          0       0   \n",
       "1             3        1   1200  ...          0       0   \n",
       "2             1        0   2500  ...          0       0   \n",
       "3             4        3  10500  ...          0       0   \n",
       "4             2        1   2990  ...          0       0   \n",
       "...         ...      ...    ...  ...        ...     ...   \n",
       "9891          0        0   1200  ...          0       0   \n",
       "9892          1        1   2900  ...          0       0   \n",
       "9893          1        0    890  ...          0       0   \n",
       "9894          2       10   2500  ...          0       0   \n",
       "9895          4        0   5300  ...          0       0   \n",
       "\n",
       "      Varanda fechada com vidro  Varanda gourmet  Vestiário  Vigia  \\\n",
       "0                             0                0          0      0   \n",
       "1                             0                0          0      0   \n",
       "2                             0                0          0      0   \n",
       "3                             0                0          0      0   \n",
       "4                             0                0          0      0   \n",
       "...                         ...              ...        ...    ...   \n",
       "9891                          0                0          0      0   \n",
       "9892                          0                0          0      0   \n",
       "9893                          0                0          0      0   \n",
       "9894                          0                0          0      0   \n",
       "9895                          0                0          0      0   \n",
       "\n",
       "      Vista panorâmica  Vista para o mar  Área de serviço   neighbourhood  \n",
       "0                    0                 0                0       seminario  \n",
       "1                    0                 0                0      Alto da XV  \n",
       "2                    0                 0                0          centro  \n",
       "3                    0                 0                0          centro  \n",
       "4                    0                 0                0      Bigorrilho  \n",
       "...                ...               ...              ...             ...  \n",
       "9891                 0                 0                0        reboucas  \n",
       "9892                 0                 0                0          centro  \n",
       "9893                 0                 0                1        reboucas  \n",
       "9894                 0                 0                0     pinheirinho  \n",
       "9895                 0                 0                0  alto da gloria  \n",
       "\n",
       "[9896 rows x 115 columns]"
      ]
     },
     "execution_count": 34,
     "metadata": {},
     "output_type": "execute_result"
    }
   ],
   "source": [
    "properties"
   ]
  },
  {
   "cell_type": "code",
   "execution_count": null,
   "metadata": {},
   "outputs": [],
   "source": []
  }
 ],
 "metadata": {
  "kernelspec": {
   "display_name": "Python 3",
   "language": "python",
   "name": "python3"
  },
  "language_info": {
   "codemirror_mode": {
    "name": "ipython",
    "version": 3
   },
   "file_extension": ".py",
   "mimetype": "text/x-python",
   "name": "python",
   "nbconvert_exporter": "python",
   "pygments_lexer": "ipython3",
   "version": "3.8.8"
  }
 },
 "nbformat": 4,
 "nbformat_minor": 4
}
