{
 "cells": [
  {
   "cell_type": "code",
   "execution_count": 436,
   "metadata": {},
   "outputs": [],
   "source": [
    "import pandas as pd \n",
    "import numpy as np"
   ]
  },
  {
   "cell_type": "code",
   "execution_count": 437,
   "metadata": {},
   "outputs": [],
   "source": [
    "properties = pd.read_csv(\"properties.csv\", sep=\",\") "
   ]
  },
  {
   "cell_type": "code",
   "execution_count": 438,
   "metadata": {},
   "outputs": [],
   "source": [
    "neighbourhoods = pd.read_csv(\"neighbourhood.csv\", sep=\",\")\n",
    "neighbourhoods[\"neighbourhood\"] = neighbourhoods[\"neighbourhood\"].str.lower().str.normalize(\"NFKD\").str.encode(\"ascii\", errors=\"ignore\").str.decode(\"utf8\")"
   ]
  },
  {
   "cell_type": "markdown",
   "metadata": {},
   "source": [
    "Removendo anúncios"
   ]
  },
  {
   "cell_type": "code",
   "execution_count": 439,
   "metadata": {},
   "outputs": [],
   "source": [
    "properties = properties.loc[properties[\"url\"].dropna().index]\n",
    "properties = properties.loc[properties[\"header\"].dropna().index]"
   ]
  },
  {
   "cell_type": "code",
   "execution_count": 440,
   "metadata": {
    "scrolled": true
   },
   "outputs": [],
   "source": [
    "#properties[\"price\"].unique()"
   ]
  },
  {
   "cell_type": "code",
   "execution_count": 441,
   "metadata": {},
   "outputs": [
    {
     "data": {
      "text/plain": [
       "9972"
      ]
     },
     "execution_count": 441,
     "metadata": {},
     "output_type": "execute_result"
    }
   ],
   "source": [
    "len(properties)"
   ]
  },
  {
   "cell_type": "code",
   "execution_count": 442,
   "metadata": {},
   "outputs": [],
   "source": [
    "properties = properties.drop_duplicates(subset=[\"id\", \"header\", \"address\", \"area\", \"price\"], \n",
    "                        keep=\"first\")"
   ]
  },
  {
   "cell_type": "code",
   "execution_count": 443,
   "metadata": {},
   "outputs": [],
   "source": [
    "properties = properties.reset_index(drop=False) "
   ]
  },
  {
   "cell_type": "code",
   "execution_count": 444,
   "metadata": {},
   "outputs": [],
   "source": [
    "properties[\"area\"] = properties[\"area\"].replace(\"--\",\"0\").astype(int)"
   ]
  },
  {
   "cell_type": "code",
   "execution_count": 445,
   "metadata": {},
   "outputs": [],
   "source": [
    "properties[\"rooms\"] = properties[\"rooms\"].str.replace(\"--\",\"0\").str.split(\" \").str[0].astype(int)"
   ]
  },
  {
   "cell_type": "code",
   "execution_count": 446,
   "metadata": {},
   "outputs": [
    {
     "name": "stderr",
     "output_type": "stream",
     "text": [
      "<ipython-input-446-e7f6d0900307>:1: FutureWarning: The default value of regex will change from True to False in a future version. In addition, single character regular expressions will*not* be treated as literal strings when regex=True.\n",
      "  properties[\"price\"] = properties[\"price\"].str.split(\" \").str[1].str.replace(\".\", \"\").astype(int)\n"
     ]
    }
   ],
   "source": [
    "properties[\"price\"] = properties[\"price\"].str.split(\" \").str[1].str.replace(\".\", \"\").astype(int)\n",
    "\n",
    "#properties[\"price\"] = properties[\"price\"].str.split(\" \").str[1].astype(float)"
   ]
  },
  {
   "cell_type": "code",
   "execution_count": 447,
   "metadata": {},
   "outputs": [],
   "source": [
    "properties[\"garages\"] = properties[\"garages\"].str.replace(\"--\",\"0\").str.split(\" \").str[0].astype(int)"
   ]
  },
  {
   "cell_type": "code",
   "execution_count": 448,
   "metadata": {},
   "outputs": [
    {
     "name": "stderr",
     "output_type": "stream",
     "text": [
      "<ipython-input-448-9ee6443d3e2c>:2: FutureWarning: The default value of regex will change from True to False in a future version. In addition, single character regular expressions will*not* be treated as literal strings when regex=True.\n",
      "  properties[\"condo\"] = properties[\"condo\"].str.split(\" \").str[1].str.replace(\".\",\"\").replace(np.nan,\"0\").astype(int)\n"
     ]
    }
   ],
   "source": [
    "#properties[\"condo\"] = properties[\"condo\"].str.split(\" \").str[1].replace(np.nan,\"0\").astype(float)\n",
    "properties[\"condo\"] = properties[\"condo\"].str.split(\" \").str[1].str.replace(\".\",\"\").replace(np.nan,\"0\").astype(int)"
   ]
  },
  {
   "cell_type": "code",
   "execution_count": 449,
   "metadata": {},
   "outputs": [],
   "source": [
    "properties[\"bathrooms\"] = properties[\"bathrooms\"].str.split(\" \").str[0].replace(\"--\",\"0\").astype(int)"
   ]
  },
  {
   "cell_type": "code",
   "execution_count": 450,
   "metadata": {},
   "outputs": [],
   "source": [
    "properties[\"url\"] = properties[\"url\"].astype(str)"
   ]
  },
  {
   "cell_type": "code",
   "execution_count": 451,
   "metadata": {},
   "outputs": [],
   "source": [
    "properties[\"header\"] = properties[\"header\"].astype(str)"
   ]
  },
  {
   "cell_type": "code",
   "execution_count": 452,
   "metadata": {},
   "outputs": [],
   "source": [
    "properties = pd.concat([properties, properties[\"amenities\"].str.get_dummies(sep=\"|\")], axis=1)"
   ]
  },
  {
   "cell_type": "code",
   "execution_count": 453,
   "metadata": {},
   "outputs": [],
   "source": [
    "properties = properties.drop(columns=[\"amenities\"])"
   ]
  },
  {
   "cell_type": "code",
   "execution_count": 454,
   "metadata": {},
   "outputs": [],
   "source": [
    "properties[\"crawled_at\"] = pd.to_datetime(properties[\"crawled_at\"], format=\"%Y-%m-%d %H:%M:%S\")"
   ]
  },
  {
   "cell_type": "code",
   "execution_count": 480,
   "metadata": {},
   "outputs": [
    {
     "name": "stdout",
     "output_type": "stream",
     "text": [
      "9896\n"
     ]
    }
   ],
   "source": [
    "for idx,address in enumerate(properties[\"address\"].str.lower().str.normalize(\"NFKD\").str.encode(\"ascii\", errors=\"ignore\").str.decode(\"utf8\")):\n",
    "    for index,row in neighbourhoods.iterrows():\n",
    "        if address.find(row[\"neighbourhood\"]) != -1:\n",
    "            if row[\"check_name\"]:\n",
    "                properties.loc[idx,\"neighbourhood\"] = row[\"equivalent\"]\n",
    "            else:\n",
    "                properties.loc[idx,\"neighbourhood\"] = row[\"neighbourhood\"]\n",
    "            break"
   ]
  },
  {
   "cell_type": "code",
   "execution_count": 488,
   "metadata": {},
   "outputs": [
    {
     "data": {
      "text/plain": [
       "9896"
      ]
     },
     "execution_count": 488,
     "metadata": {},
     "output_type": "execute_result"
    }
   ],
   "source": [
    "len(properties)"
   ]
  },
  {
   "cell_type": "code",
   "execution_count": null,
   "metadata": {},
   "outputs": [],
   "source": []
  }
 ],
 "metadata": {
  "kernelspec": {
   "display_name": "Python 3",
   "language": "python",
   "name": "python3"
  },
  "language_info": {
   "codemirror_mode": {
    "name": "ipython",
    "version": 3
   },
   "file_extension": ".py",
   "mimetype": "text/x-python",
   "name": "python",
   "nbconvert_exporter": "python",
   "pygments_lexer": "ipython3",
   "version": "3.8.8"
  }
 },
 "nbformat": 4,
 "nbformat_minor": 4
}
