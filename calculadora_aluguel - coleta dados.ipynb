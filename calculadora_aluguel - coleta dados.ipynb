{
 "cells": [
  {
   "cell_type": "code",
   "execution_count": 9,
   "metadata": {
    "scrolled": false
   },
   "outputs": [
    {
     "name": "stderr",
     "output_type": "stream",
     "text": [
      "\n",
      "\n",
      "====== WebDriver manager ======\n",
      "Current google-chrome version is 91.0.4472\n",
      "Get LATEST driver version for 91.0.4472\n",
      "Driver [C:\\Users\\erycm\\.wdm\\drivers\\chromedriver\\win32\\91.0.4472.101\\chromedriver.exe] found in cache\n"
     ]
    },
    {
     "name": "stdout",
     "output_type": "stream",
     "text": [
      "Next page not clickable\n"
     ]
    }
   ],
   "source": [
    "from selenium import webdriver\n",
    "from webdriver_manager.chrome import ChromeDriverManager\n",
    "from time import sleep\n",
    "import pandas as pd\n",
    "from tqdm import tqdm\n",
    "from datetime import datetime\n",
    "\n",
    "driver = webdriver.Chrome(ChromeDriverManager().install())\n",
    "\n",
    "errors = []\n",
    "results = []\n",
    "\n",
    "driver.get(\"https://www.vivareal.com.br/aluguel/parana/curitiba/\")\n",
    "sleep(2)\n",
    "\n",
    "try:\n",
    "    driver.find_element_by_class_name(\"cookie-notifier__cta\").click()\n",
    "except:\n",
    "        print(\"No cookies!\")\n",
    "\n",
    "while True:\n",
    "    sleep(2)\n",
    "    main_div = driver.find_element_by_class_name(\"results-main__panel\")\n",
    "    properties = main_div.find_elements_by_class_name(\"js-property-card\")\n",
    "    paginator = driver.find_element_by_class_name(\"js-results-pagination\")\n",
    "    next_page = paginator.find_element_by_xpath(\"//a[@title='Próxima página']\")\n",
    "\n",
    "    for i,apartment in enumerate(properties):\n",
    "        url = apartment.find_element_by_class_name(\"js-card-title\").get_attribute(\"href\")\n",
    "        apto_id = url.split(\"id-\")[-1][:-1]\n",
    "        header = apartment.find_element_by_class_name(\"property-card__title\").text\n",
    "        try:\n",
    "            address = apartment.find_element_by_class_name(\"property-card__address\").text\n",
    "        except:\n",
    "            address = None\n",
    "        try:\n",
    "            area = apartment.find_element_by_class_name(\"js-property-card-detail-area\").text\n",
    "        except:\n",
    "            area = None\n",
    "        try:\n",
    "            rooms = apartment.find_element_by_class_name(\"js-property-detail-rooms\").text\n",
    "        except:\n",
    "            rooms = None\n",
    "        try:\n",
    "            bathrooms = apartment.find_element_by_class_name(\"js-property-detail-bathroom\").text\n",
    "        except:\n",
    "            bathrooms = None\n",
    "        try:\n",
    "            garages = apartment.find_element_by_class_name(\"js-property-detail-garages\").text\n",
    "        except:\n",
    "            garages = None\n",
    "        try:\n",
    "            amenities = apartment.find_element_by_class_name(\"property-card__amenities\").text\n",
    "        except:\n",
    "            amenities = None\n",
    "        try:\n",
    "            price = apartment.find_element_by_class_name(\"js-property-card-prices\").text\n",
    "        except:\n",
    "            price = None\n",
    "        try:\n",
    "            condo = apartment.find_element_by_class_name(\"js-condo-price\").text\n",
    "        except:\n",
    "            condo = None\n",
    "        crawled_at = datetime.now().strftime(\"%Y-%m-%d %H:%M\")\n",
    "        \n",
    "        results.append({\"id\": apto_id,\n",
    "                        \"url\": url,\n",
    "                        \"header\": header,\n",
    "                        \"address\": address,\n",
    "                        \"area\": area,\n",
    "                        \"rooms\": rooms,\n",
    "                        \"bathrooms\": bathrooms,\n",
    "                        \"garages\": garages,\n",
    "                        \"amenities\": str(amenities).replace(\"\\n\",\"|\"),\n",
    "                        \"price\": price,\n",
    "                        \"condo\": condo,\n",
    "                        \"crawled_at\": crawled_at})\n",
    "    try:\n",
    "        next_page.click()\n",
    "    except:\n",
    "        print(\"Next page not clickable\")\n",
    "        break\n",
    "\n",
    "pd.DataFrame(results).to_csv(\"properties.csv\", index=False)\n",
    "driver.close()"
   ]
  },
  {
   "cell_type": "code",
   "execution_count": null,
   "metadata": {},
   "outputs": [],
   "source": []
  }
 ],
 "metadata": {
  "kernelspec": {
   "display_name": "Python 3",
   "language": "python",
   "name": "python3"
  },
  "language_info": {
   "codemirror_mode": {
    "name": "ipython",
    "version": 3
   },
   "file_extension": ".py",
   "mimetype": "text/x-python",
   "name": "python",
   "nbconvert_exporter": "python",
   "pygments_lexer": "ipython3",
   "version": "3.8.8"
  }
 },
 "nbformat": 4,
 "nbformat_minor": 4
}
