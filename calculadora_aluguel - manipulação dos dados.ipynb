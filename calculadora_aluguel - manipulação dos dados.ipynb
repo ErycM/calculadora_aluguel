{
 "cells": [
  {
   "cell_type": "code",
   "execution_count": 2,
   "metadata": {},
   "outputs": [],
   "source": [
    "import pandas as pd \n",
    "import numpy as np"
   ]
  },
  {
   "cell_type": "code",
   "execution_count": 3,
   "metadata": {},
   "outputs": [],
   "source": [
    "properties = pd.read_csv(\"properties.csv\", sep=\",\") "
   ]
  },
  {
   "cell_type": "code",
   "execution_count": 4,
   "metadata": {},
   "outputs": [],
   "source": [
    "neighbourhoods = pd.read_csv(\"neighbourhood.csv\", sep=\",\")\n",
    "neighbourhoods[\"neighbourhood\"] = neighbourhoods[\"neighbourhood\"].str.lower().str.normalize(\"NFKD\").str.encode(\"ascii\", errors=\"ignore\").str.decode(\"utf8\")"
   ]
  },
  {
   "cell_type": "markdown",
   "metadata": {},
   "source": [
    "Removendo anúncios"
   ]
  },
  {
   "cell_type": "code",
   "execution_count": 5,
   "metadata": {},
   "outputs": [],
   "source": [
    "properties = properties.loc[properties[\"url\"].dropna().index]\n",
    "properties = properties.loc[properties[\"header\"].dropna().index]"
   ]
  },
  {
   "cell_type": "code",
   "execution_count": 6,
   "metadata": {
    "scrolled": true
   },
   "outputs": [],
   "source": [
    "#properties[\"price\"].unique()"
   ]
  },
  {
   "cell_type": "code",
   "execution_count": 7,
   "metadata": {},
   "outputs": [
    {
     "output_type": "execute_result",
     "data": {
      "text/plain": [
       "9972"
      ]
     },
     "metadata": {},
     "execution_count": 7
    }
   ],
   "source": [
    "len(properties)"
   ]
  },
  {
   "cell_type": "code",
   "execution_count": 8,
   "metadata": {},
   "outputs": [],
   "source": [
    "properties = properties.drop_duplicates(subset=[\"id\", \"header\", \"address\", \"area\", \"price\"], \n",
    "                        keep=\"first\")"
   ]
  },
  {
   "cell_type": "code",
   "execution_count": 9,
   "metadata": {},
   "outputs": [],
   "source": [
    "properties = properties.reset_index(drop=False) "
   ]
  },
  {
   "cell_type": "code",
   "execution_count": 10,
   "metadata": {},
   "outputs": [],
   "source": [
    "properties[\"area\"] = properties[\"area\"].replace(\"--\",\"0\").astype(int)"
   ]
  },
  {
   "cell_type": "code",
   "execution_count": 11,
   "metadata": {},
   "outputs": [],
   "source": [
    "properties[\"rooms\"] = properties[\"rooms\"].str.replace(\"--\",\"0\").str.split(\" \").str[0].astype(int)"
   ]
  },
  {
   "cell_type": "code",
   "execution_count": 12,
   "metadata": {},
   "outputs": [
    {
     "output_type": "stream",
     "name": "stderr",
     "text": [
      "<ipython-input-12-e7f6d0900307>:1: FutureWarning: The default value of regex will change from True to False in a future version. In addition, single character regular expressions will*not* be treated as literal strings when regex=True.\n  properties[\"price\"] = properties[\"price\"].str.split(\" \").str[1].str.replace(\".\", \"\").astype(int)\n"
     ]
    }
   ],
   "source": [
    "properties[\"price\"] = properties[\"price\"].str.split(\" \").str[1].str.replace(\".\", \"\").astype(int)\n"
   ]
  },
  {
   "cell_type": "code",
   "execution_count": 13,
   "metadata": {},
   "outputs": [],
   "source": [
    "properties[\"garages\"] = properties[\"garages\"].str.replace(\"--\",\"0\").str.split(\" \").str[0].astype(int)"
   ]
  },
  {
   "cell_type": "code",
   "execution_count": 14,
   "metadata": {},
   "outputs": [
    {
     "output_type": "stream",
     "name": "stderr",
     "text": [
      "<ipython-input-14-9ee6443d3e2c>:2: FutureWarning: The default value of regex will change from True to False in a future version. In addition, single character regular expressions will*not* be treated as literal strings when regex=True.\n  properties[\"condo\"] = properties[\"condo\"].str.split(\" \").str[1].str.replace(\".\",\"\").replace(np.nan,\"0\").astype(int)\n"
     ]
    }
   ],
   "source": [
    "#properties[\"condo\"] = properties[\"condo\"].str.split(\" \").str[1].replace(np.nan,\"0\").astype(float)\n",
    "properties[\"condo\"] = properties[\"condo\"].str.split(\" \").str[1].str.replace(\".\",\"\").replace(np.nan,\"0\").astype(int)"
   ]
  },
  {
   "cell_type": "code",
   "execution_count": 15,
   "metadata": {},
   "outputs": [],
   "source": [
    "properties[\"bathrooms\"] = properties[\"bathrooms\"].str.split(\" \").str[0].replace(\"--\",\"0\").astype(int)"
   ]
  },
  {
   "cell_type": "code",
   "execution_count": 16,
   "metadata": {},
   "outputs": [],
   "source": [
    "properties[\"url\"] = properties[\"url\"].astype(str)"
   ]
  },
  {
   "cell_type": "code",
   "execution_count": 17,
   "metadata": {},
   "outputs": [],
   "source": [
    "properties[\"header\"] = properties[\"header\"].astype(str)"
   ]
  },
  {
   "cell_type": "code",
   "execution_count": 18,
   "metadata": {},
   "outputs": [],
   "source": [
    "properties = pd.concat([properties, properties[\"amenities\"].str.get_dummies(sep=\"|\")], axis=1)"
   ]
  },
  {
   "cell_type": "code",
   "execution_count": 19,
   "metadata": {},
   "outputs": [],
   "source": [
    "properties = properties.drop(columns=[\"amenities\"])"
   ]
  },
  {
   "cell_type": "code",
   "execution_count": 20,
   "metadata": {},
   "outputs": [],
   "source": [
    "properties[\"crawled_at\"] = pd.to_datetime(properties[\"crawled_at\"], format=\"%Y-%m-%d %H:%M:%S\")"
   ]
  },
  {
   "cell_type": "code",
   "execution_count": 21,
   "metadata": {},
   "outputs": [],
   "source": [
    "for idx,address in enumerate(properties[\"address\"].str.lower().str.normalize(\"NFKD\").str.encode(\"ascii\", errors=\"ignore\").str.decode(\"utf8\")):\n",
    "    for index,row in neighbourhoods.iterrows():\n",
    "        if address.find(row[\"neighbourhood\"]) != -1:\n",
    "            if row[\"check_name\"]:\n",
    "                properties.loc[idx,\"neighbourhood\"] = row[\"equivalent\"]\n",
    "            else:\n",
    "                properties.loc[idx,\"neighbourhood\"] = row[\"neighbourhood\"]\n",
    "            break"
   ]
  },
  {
   "cell_type": "code",
   "execution_count": 22,
   "metadata": {},
   "outputs": [],
   "source": [
    "properties.to_csv(\"properties_v2.csv\", index=False)"
   ]
  }
 ],
 "metadata": {
  "kernelspec": {
   "name": "python3",
   "display_name": "Python 3.8.8 64-bit ('base': conda)"
  },
  "language_info": {
   "codemirror_mode": {
    "name": "ipython",
    "version": 3
   },
   "file_extension": ".py",
   "mimetype": "text/x-python",
   "name": "python",
   "nbconvert_exporter": "python",
   "pygments_lexer": "ipython3",
   "version": "3.8.8"
  },
  "interpreter": {
   "hash": "e049b45738c4749feec37a8215276347ba84459169ad7790684fdcca7413c3f2"
  }
 },
 "nbformat": 4,
 "nbformat_minor": 4
}